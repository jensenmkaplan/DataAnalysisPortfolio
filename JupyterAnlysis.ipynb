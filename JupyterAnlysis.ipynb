{
 "cells": [
  {
   "cell_type": "code",
   "execution_count": null,
   "id": "631ee115",
   "metadata": {
    "vscode": {
     "languageId": "plaintext"
    }
   },
   "outputs": [],
   "source": [
    "import matplotlib.pyplot as plt\n",
    "import pandas as pd\n",
    "\n",
    "# Load the dataset\n",
    "df = pd.read_csv('Online Sales Data.csv')\n",
    "\n",
    "\n",
    "# Print column names for verification\n",
    "print(df.columns)\n",
    "\n",
    "# Group by 'Product Category' and sum the 'Total Revenue'\n",
    "revenue_by_category = df.groupby('Product Category')['Total Revenue'].sum()\n",
    "\n",
    "\n",
    "# Create the pie chart\n",
    "plt.figure(figsize=(10, 6))\n",
    "plt.pie(revenue_by_category, labels=revenue_by_category.index, autopct=absolute_value, startangle=140)\n",
    "\n",
    "# Adding title\n",
    "plt.title('Total Revenue by Product Category')\n",
    "\n",
    "# Equal aspect ratio ensures that pie is drawn as a circle.\n",
    "plt.axis('equal')\n",
    "\n",
    "# Display the chart\n",
    "plt.show()"
   ]
  },
  {
   "cell_type": "code",
   "execution_count": null,
   "id": "f7421dbf",
   "metadata": {
    "vscode": {
     "languageId": "plaintext"
    }
   },
   "outputs": [],
   "source": []
  }
 ],
 "metadata": {
  "kernelspec": {
   "display_name": "Python 3 (ipykernel)",
   "language": "python",
   "name": "python3"
  },
  "language_info": {
   "codemirror_mode": {
    "name": "ipython",
    "version": 3
   },
   "file_extension": ".py",
   "mimetype": "text/x-python",
   "name": "python",
   "nbconvert_exporter": "python",
   "pygments_lexer": "ipython3",
   "version": "3.9.12"
  }
 },
 "nbformat": 4,
 "nbformat_minor": 5
}
