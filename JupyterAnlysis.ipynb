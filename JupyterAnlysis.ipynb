{
 "cells": [
  {
   "cell_type": "code",
   "execution_count": 12,
   "id": "631ee115",
   "metadata": {},
   "outputs": [
    {
     "ename": "SyntaxError",
     "evalue": "invalid syntax (4054687957.py, line 31)",
     "output_type": "error",
     "traceback": [
      "\u001b[0;36m  Cell \u001b[0;32mIn[12], line 31\u001b[0;36m\u001b[0m\n\u001b[0;31m    plt.pie(revenue_by_category, labels=revenue_by_category.index, autopct=lambda val: absolute_value_rev(val, total_revenue), startangle=140)plt.title('Total Revenue by Product Category')\u001b[0m\n\u001b[0m                                                                                                                                              ^\u001b[0m\n\u001b[0;31mSyntaxError\u001b[0m\u001b[0;31m:\u001b[0m invalid syntax\n"
     ]
    }
   ],
   "source": [
    "### Jensen Kaplan\n",
    "## Using a trending kaggle dataset as a playground to display\n",
    "## analytical skills and data visualization techniques\n",
    "## ORIGINAL SOURCE: https://www.kaggle.com/datasets/sahilprajapati143/retail-analysis-large-dataset/code\n",
    "\n",
    "import matplotlib.pyplot as plt\n",
    "import pandas as pd\n",
    "\n",
    "# Function to calculate the absolute value of the percentage\n",
    "# Used to display the total revenue for each category\n",
    "def absolute_value_rev(val, total):\n",
    "    return f'${val * total / 100:,.2f}'# Function to calculate the absolute value of the percentage\n",
    "\n",
    "\n",
    "# Load the dataset\n",
    "df = pd.read_csv('Online Sales Data.csv')\n",
    "\n",
    "# Print column names to explore the parameters of the dataset\n",
    "print('##The dataset contains the following columns##')\n",
    "for i in df.columns:\n",
    "    print(i)\n",
    "\n",
    "\n",
    "# Group by 'Product Category' and sum the 'Total Revenue'\n",
    "revenue_by_category = df.groupby('Product Category')['Total Revenue'].sum()\n",
    "# print(revenue_by_category)\n",
    "\n",
    "# Create the pie chart dispalaying total revenue by product category\n",
    "plt.figure(figsize=(10, 6))\n",
    "total_revenue = sum(revenue_by_category)\n",
    "plt.pie(revenue_by_category, labels=revenue_by_category.index, autopct=lambda val: absolute_value_rev(val, total_revenue), startangle=140)\n",
    "plt.title('Total Revenue by Product Category')\n",
    "# Equal aspect ratio ensures that pie is drawn as a circle.\n",
    "plt.axis('equal')\n",
    "# Display the chart\n",
    "plt.show()\n",
    "\n",
    "# electronics_sold = df[df['Product Category']]\n",
    "electronics_sold = df[df['Product Category'] == 'Electronics']['Units Sold'].sum()\n",
    "print(electronics_sold)\n",
    "\n",
    "# Group the data by product category and sum the units sold\n",
    "counts_by_category = df.groupby('Product Category')['Units Sold'].sum()\n",
    "# Sort the counts of units sold in descending order\n",
    "counts_by_category = counts_by_category.sort_values(ascending=False)\n",
    "\n",
    "# Create a bar chart\n",
    "plt.figure(figsize=(10, 6))\n",
    "plt.bar(counts_by_category.index, counts_by_category)\n",
    "\n",
    "# Add title and labels\n",
    "plt.title('Units Sold by Product Category')\n",
    "plt.xlabel('Product Category')\n",
    "plt.ylabel('Units Sold')\n",
    "\n",
    "# Display the chart\n",
    "plt.show()"
   ]
  },
  {
   "cell_type": "markdown",
   "id": "9a3b78c7",
   "metadata": {},
   "source": []
  }
 ],
 "metadata": {
  "kernelspec": {
   "display_name": "Python 3 (ipykernel)",
   "language": "python",
   "name": "python3"
  },
  "language_info": {
   "codemirror_mode": {
    "name": "ipython",
    "version": 3
   },
   "file_extension": ".py",
   "mimetype": "text/x-python",
   "name": "python",
   "nbconvert_exporter": "python",
   "pygments_lexer": "ipython3",
   "version": "3.12.4"
  }
 },
 "nbformat": 4,
 "nbformat_minor": 5
}
